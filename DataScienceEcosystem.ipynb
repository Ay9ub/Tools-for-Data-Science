{
 "cells": [
  {
   "cell_type": "markdown",
   "id": "e96b8638-9974-42de-9bed-d317c837ac36",
   "metadata": {},
   "source": [
    "# Data Science Tools and Ecosystem\n"
   ]
  },
  {
   "cell_type": "markdown",
   "id": "6beb07c9-0b01-4279-bbf8-aa3ef7e96cc0",
   "metadata": {},
   "source": [
    "In this notebook, Data Science Tools and Ecosystem are summarized."
   ]
  },
  {
   "cell_type": "markdown",
   "id": "acbf25cd-d5ac-4c1f-9cea-2afe50b4e542",
   "metadata": {},
   "source": [
    "Some of the popular languages that Data Scientists use are:\n",
    "1. Python\n",
    "2. R Language\n",
    "3. SQL\n",
    "4. Scala\n",
    "5. Julia"
   ]
  },
  {
   "cell_type": "markdown",
   "id": "afae92d9-d094-4a79-9fa4-3ffd04bb46b7",
   "metadata": {},
   "source": [
    "Some of the commonly used libraries used by Data Scientists include:\n",
    "+ Numpy\n",
    "+ Pandas\n",
    "+ Matplotlib\n",
    "+ Seaborn\n",
    "+ Scikit-learn\n",
    "+ TensorFlow"
   ]
  },
  {
   "cell_type": "markdown",
   "id": "6edcb375-92c4-4fbb-bca3-afd7a7f49328",
   "metadata": {},
   "source": [
    "| Data Science Tools | \n",
    "| :----------------- |\n",
    "| Apache Spark |\n",
    "| Jupyter Notebook |\n",
    "| Scikit-learn |\n",
    "| Tableau |\n",
    "| TensorFlow |"
   ]
  },
  {
   "cell_type": "markdown",
   "id": "ed5a2641-fafd-4a13-9fda-5ab791a7de78",
   "metadata": {},
   "source": [
    "### Below are a few examples of evaluating arithmetic expressions in Python"
   ]
  },
  {
   "cell_type": "code",
   "execution_count": 17,
   "id": "0d77c5de-4f49-4fbb-aa1c-89fa724c7bde",
   "metadata": {},
   "outputs": [
    {
     "data": {
      "text/plain": [
       "17"
      ]
     },
     "execution_count": 17,
     "metadata": {},
     "output_type": "execute_result"
    }
   ],
   "source": [
    "#This a simple arithmetic expression to mutiply then add integers.\n",
    "(3*4)+5"
   ]
  },
  {
   "cell_type": "code",
   "execution_count": 19,
   "id": "82a05bd4-72de-412d-8982-b365a4f0bc3b",
   "metadata": {},
   "outputs": [
    {
     "data": {
      "text/plain": [
       "3.3333333333333335"
      ]
     },
     "execution_count": 19,
     "metadata": {},
     "output_type": "execute_result"
    }
   ],
   "source": [
    "#This will convert 200 minutes to hours by diving by 60\n",
    "\n",
    "min = 200 \n",
    "hour = min / 60\n",
    "hour"
   ]
  },
  {
   "cell_type": "markdown",
   "id": "cbb95745-d5fc-4cc0-b774-682089fc898b",
   "metadata": {},
   "source": [
    "__Objectives:__\n",
    "+ List popular languages for Data Science\n",
    "+ Describe the components of a Data Scientist's toolkit and list various tool categories.\n",
    "+ Identify the criteria and roles for determining the language to learn.\n",
    "+ List the tasks that a data scientist needs to perform to build a model​.\n",
    "+ \n",
    "List the various libraries: scientific, visualization, machine learning, and deep learning\n",
    "+ Describe how to use the notebooks in JupyterLab.\n",
    "+ Describe R capabilities and RStudio environment.\n",
    "+ Explain version control and describe the Git and GitHub environment.\n",
    "+ \n",
    "Describe the purpose of source repositories and explain how GitHub satisfies the needs of a source repository\n",
    "+ Create a Jupyter Notebook with markdown and code cells\n",
    "+ Share your Jupyter Notebook publicly on GitHub.."
   ]
  },
  {
   "cell_type": "markdown",
   "id": "a5ec7f53-b1fe-4b16-9502-0fb7c05285cb",
   "metadata": {},
   "source": [
    "## Author\n",
    "Ayub Abdikarim Muse"
   ]
  },
  {
   "cell_type": "code",
   "execution_count": null,
   "id": "dfd473c6-2e8c-405e-82a1-fd741aaabb17",
   "metadata": {},
   "outputs": [],
   "source": []
  }
 ],
 "metadata": {
  "kernelspec": {
   "display_name": "Python 3 (ipykernel)",
   "language": "python",
   "name": "python3"
  },
  "language_info": {
   "codemirror_mode": {
    "name": "ipython",
    "version": 3
   },
   "file_extension": ".py",
   "mimetype": "text/x-python",
   "name": "python",
   "nbconvert_exporter": "python",
   "pygments_lexer": "ipython3",
   "version": "3.12.4"
  }
 },
 "nbformat": 4,
 "nbformat_minor": 5
}
